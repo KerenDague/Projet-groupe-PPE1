{
 "cells": [
  {
   "cell_type": "code",
   "execution_count": null,
   "id": "fe7d4431-e89d-4eba-9b9a-8a914cb3a579",
   "metadata": {},
   "outputs": [],
   "source": [
    "# Charger les fichiers\n",
    "fichier_texte = 'texte_a_filtrer.txt'\n",
    "fichier_mots_exclus = 'mots_a_exclure.txt'\n",
    "fichier_sortie = 'texte_filtre.txt'\n",
    "\n",
    "# Lire les mots à exclure\n",
    "with open(fichier_mots_exclus, 'r', encoding='utf-8') as f:\n",
    "    mots_a_exclure = set(f.read().splitlines())\n",
    "\n",
    "# Lire le fichier texte\n",
    "with open(fichier_texte, 'r', encoding='utf-8') as f:\n",
    "    texte = f.read()\n",
    "\n",
    "# Filtrer les mots\n",
    "mots_texte = texte.split()\n",
    "texte_filtre = ' '.join(mot for mot in mots_texte if mot not in mots_a_exclure)\n",
    "\n",
    "# Sauvegarder le texte filtré\n",
    "def sauvegarder_texte(fichier_sortie, texte_filtre):\n",
    "    with open(fichier_sortie, 'w', encoding='utf-8') as f:\n",
    "        f.write(texte_filtre)\n",
    "    print(f\"Le texte filtré a été sauvegardé dans {fichier_sortie}\")\n",
    "\n",
    "# Exécuter la sauvegarde\n",
    "sauvegarder_texte(fichier_sortie, texte_filtre)\n"
   ]
  }
 ],
 "metadata": {
  "kernelspec": {
   "display_name": "Python 3 (ipykernel)",
   "language": "python",
   "name": "python3"
  },
  "language_info": {
   "codemirror_mode": {
    "name": "ipython",
    "version": 3
   },
   "file_extension": ".py",
   "mimetype": "text/x-python",
   "name": "python",
   "nbconvert_exporter": "python",
   "pygments_lexer": "ipython3",
   "version": "3.12.3"
  }
 },
 "nbformat": 4,
 "nbformat_minor": 5
}
